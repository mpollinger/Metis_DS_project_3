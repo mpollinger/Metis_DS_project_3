{
 "cells": [
  {
   "cell_type": "code",
   "execution_count": 1,
   "metadata": {},
   "outputs": [],
   "source": [
    "import pandas as pd\n",
    "from sklearn.model_selection import KFold\n",
    "from sklearn.model_selection import cross_val_score\n",
    "from sklearn.linear_model import LogisticRegression\n",
    "from sklearn.neighbors import KNeighborsClassifier\n",
    "from sklearn import svm\n",
    "from sklearn import metrics\n",
    "from sklearn.tree import DecisionTreeRegressor\n",
    "from sklearn.ensemble import RandomForestClassifier\n",
    "import xgboost as xgb\n",
    "\n",
    "import numpy as np\n",
    "import matplotlib as mpl\n",
    "import matplotlib.pyplot as plt\n",
    "import scipy.stats as st\n",
    "import seaborn as sns\n",
    "\n",
    "from sklearn.metrics import confusion_matrix\n",
    "from sklearn.metrics import precision_score, recall_score, precision_recall_curve,f1_score, fbeta_score"
   ]
  },
  {
   "cell_type": "markdown",
   "metadata": {},
   "source": [
    "## Import training data for K-fold CV"
   ]
  },
  {
   "cell_type": "code",
   "execution_count": 2,
   "metadata": {},
   "outputs": [],
   "source": [
    "X_train = pd.read_csv(\"X_exp_1_train.csv\", sep = \",\")\n",
    "\n",
    "y_train = pd.read_csv(\"y_exp_1_train.csv\", sep = \",\")\n"
   ]
  },
  {
   "cell_type": "markdown",
   "metadata": {},
   "source": [
    "### First classification: True Second Price Auction or Not"
   ]
  },
  {
   "cell_type": "code",
   "execution_count": 3,
   "metadata": {},
   "outputs": [],
   "source": [
    "X, y = np.array(X_train.drop(columns = ['Unnamed: 0'])), np.array(y_train['second_price_1'])"
   ]
  },
  {
   "cell_type": "code",
   "execution_count": 4,
   "metadata": {},
   "outputs": [
    {
     "name": "stderr",
     "output_type": "stream",
     "text": [
      "/anaconda3/lib/python3.7/site-packages/sklearn/linear_model/logistic.py:432: FutureWarning: Default solver will be changed to 'lbfgs' in 0.22. Specify a solver to silence this warning.\n",
      "  FutureWarning)\n",
      "/anaconda3/lib/python3.7/site-packages/sklearn/linear_model/logistic.py:432: FutureWarning: Default solver will be changed to 'lbfgs' in 0.22. Specify a solver to silence this warning.\n",
      "  FutureWarning)\n",
      "/anaconda3/lib/python3.7/site-packages/sklearn/linear_model/logistic.py:432: FutureWarning: Default solver will be changed to 'lbfgs' in 0.22. Specify a solver to silence this warning.\n",
      "  FutureWarning)\n",
      "/anaconda3/lib/python3.7/site-packages/sklearn/linear_model/logistic.py:432: FutureWarning: Default solver will be changed to 'lbfgs' in 0.22. Specify a solver to silence this warning.\n",
      "  FutureWarning)\n",
      "/anaconda3/lib/python3.7/site-packages/sklearn/linear_model/logistic.py:432: FutureWarning: Default solver will be changed to 'lbfgs' in 0.22. Specify a solver to silence this warning.\n",
      "  FutureWarning)\n"
     ]
    },
    {
     "data": {
      "text/plain": [
       "knn         0.965286\n",
       "logistic    0.976467\n",
       "svm         0.988851\n",
       "dt          0.998765\n",
       "rf          0.995054\n",
       "xgboost     0.998765\n",
       "dtype: float64"
      ]
     },
     "execution_count": 4,
     "metadata": {},
     "output_type": "execute_result"
    }
   ],
   "source": [
    "kf = KFold(n_splits=5, shuffle=True, random_state = 71)\n",
    "\n",
    "#collect scores\n",
    "knn_1_scores = []\n",
    "logistic_1_scores = []\n",
    "svm_1_scores = []\n",
    "dt_1_scores = []\n",
    "rf_1_scores = []\n",
    "xg_1_scores = []\n",
    "\n",
    "for train_ind, val_ind in kf.split(X,y):\n",
    "    \n",
    "    X_train, y_train = X[train_ind], y[train_ind]\n",
    "    X_val, y_val = X[val_ind], y[val_ind] \n",
    "    \n",
    "    \n",
    "    #k nearest neighbors\n",
    "    knn_1 = KNeighborsClassifier(n_neighbors=5)\n",
    "    knn_1.fit(X_train, y_train)\n",
    "    y_pred = knn_1.predict(X_val)\n",
    "    knn_1_scores.append(metrics.accuracy_score(y_val, y_pred))\n",
    "\n",
    "    #logistic regression\n",
    "    logit = LogisticRegression(C = 0.95)\n",
    "    logit.fit(X_train, y_train)\n",
    "    y_pred = logit.predict(X_val)\n",
    "    #check this code\n",
    "    logistic_1_scores.append(metrics.accuracy_score(y_val, y_pred))\n",
    "    \n",
    "    #support vector machines\n",
    "    svm_model_1 = svm.SVC(kernel=\"linear\")\n",
    "    svm_model_1.fit(X_train, y_train)\n",
    "    y_pred = svm_model_1.predict(X_val)\n",
    "    svm_1_scores.append(metrics.accuracy_score(y_val, y_pred))\n",
    "    \n",
    "    #decision tree\n",
    "    dt_model_1 = DecisionTreeRegressor()\n",
    "    dt_model_1.fit(X_train, y_train)\n",
    "    y_pred = dt_model_1.predict(X_val)\n",
    "    dt_1_scores.append(metrics.accuracy_score(y_val, y_pred))\n",
    "    \n",
    "    #random forests\n",
    "    rf_model_1 = RandomForestClassifier(n_estimators=20, max_depth=2, random_state=0)\n",
    "    rf_model_1.fit(X_train, y_train)\n",
    "    y_pred = rf_model_1.predict(X_val)\n",
    "    rf_1_scores.append(metrics.accuracy_score(y_val, y_pred))\n",
    "    \n",
    "    #xg boost\n",
    "    xg_model_1 = xgb.XGBClassifier()\n",
    "    xg_model_1.fit(X_train,y_train)\n",
    "    y_pred = xg_model_1.predict(X_val)\n",
    "    xg_1_scores.append(metrics.accuracy_score(y_val, y_pred))\n",
    "\n",
    "model_scores = [knn_1_scores, logistic_1_scores, svm_1_scores, dt_1_scores, rf_1_scores, xg_1_scores]  \n",
    "columns = ['knn', \"logistic\", \"svm\", \"dt\", \"rf\", \"xgboost\"]\n",
    "df_1 = pd.DataFrame()\n",
    "for i in range(0,6):\n",
    "    df_1[columns[i]] = model_scores[i]\n",
    "\n",
    "#print mean accuracy scores for kfold\n",
    "df_1.mean(axis=0)\n",
    "    \n",
    "    \n",
    "    \n",
    "    \n",
    "\n",
    "\n",
    "\n",
    "\n"
   ]
  },
  {
   "cell_type": "markdown",
   "metadata": {},
   "source": [
    "#### K-Fold Results"
   ]
  },
  {
   "cell_type": "code",
   "execution_count": 5,
   "metadata": {},
   "outputs": [
    {
     "data": {
      "text/html": [
       "<div>\n",
       "<style scoped>\n",
       "    .dataframe tbody tr th:only-of-type {\n",
       "        vertical-align: middle;\n",
       "    }\n",
       "\n",
       "    .dataframe tbody tr th {\n",
       "        vertical-align: top;\n",
       "    }\n",
       "\n",
       "    .dataframe thead th {\n",
       "        text-align: right;\n",
       "    }\n",
       "</style>\n",
       "<table border=\"1\" class=\"dataframe\">\n",
       "  <thead>\n",
       "    <tr style=\"text-align: right;\">\n",
       "      <th></th>\n",
       "      <th>knn</th>\n",
       "      <th>logistic</th>\n",
       "      <th>svm</th>\n",
       "      <th>dt</th>\n",
       "      <th>rf</th>\n",
       "      <th>xgboost</th>\n",
       "    </tr>\n",
       "  </thead>\n",
       "  <tbody>\n",
       "    <tr>\n",
       "      <th>0</th>\n",
       "      <td>0.944444</td>\n",
       "      <td>0.944444</td>\n",
       "      <td>0.975309</td>\n",
       "      <td>0.993827</td>\n",
       "      <td>0.981481</td>\n",
       "      <td>0.993827</td>\n",
       "    </tr>\n",
       "    <tr>\n",
       "      <th>1</th>\n",
       "      <td>0.981366</td>\n",
       "      <td>0.993789</td>\n",
       "      <td>0.987578</td>\n",
       "      <td>1.000000</td>\n",
       "      <td>1.000000</td>\n",
       "      <td>1.000000</td>\n",
       "    </tr>\n",
       "    <tr>\n",
       "      <th>2</th>\n",
       "      <td>0.981366</td>\n",
       "      <td>0.993789</td>\n",
       "      <td>1.000000</td>\n",
       "      <td>1.000000</td>\n",
       "      <td>1.000000</td>\n",
       "      <td>1.000000</td>\n",
       "    </tr>\n",
       "    <tr>\n",
       "      <th>3</th>\n",
       "      <td>0.962733</td>\n",
       "      <td>0.987578</td>\n",
       "      <td>1.000000</td>\n",
       "      <td>1.000000</td>\n",
       "      <td>1.000000</td>\n",
       "      <td>1.000000</td>\n",
       "    </tr>\n",
       "    <tr>\n",
       "      <th>4</th>\n",
       "      <td>0.956522</td>\n",
       "      <td>0.962733</td>\n",
       "      <td>0.981366</td>\n",
       "      <td>1.000000</td>\n",
       "      <td>0.993789</td>\n",
       "      <td>1.000000</td>\n",
       "    </tr>\n",
       "  </tbody>\n",
       "</table>\n",
       "</div>"
      ],
      "text/plain": [
       "        knn  logistic       svm        dt        rf   xgboost\n",
       "0  0.944444  0.944444  0.975309  0.993827  0.981481  0.993827\n",
       "1  0.981366  0.993789  0.987578  1.000000  1.000000  1.000000\n",
       "2  0.981366  0.993789  1.000000  1.000000  1.000000  1.000000\n",
       "3  0.962733  0.987578  1.000000  1.000000  1.000000  1.000000\n",
       "4  0.956522  0.962733  0.981366  1.000000  0.993789  1.000000"
      ]
     },
     "execution_count": 5,
     "metadata": {},
     "output_type": "execute_result"
    }
   ],
   "source": [
    "df_1"
   ]
  },
  {
   "cell_type": "code",
   "execution_count": null,
   "metadata": {},
   "outputs": [],
   "source": []
  },
  {
   "cell_type": "code",
   "execution_count": 6,
   "metadata": {},
   "outputs": [
    {
     "data": {
      "text/plain": [
       "array([0.02827136, 0.1769626 , 0.25375816, 0.02870366, 0.02526075,\n",
       "       0.00544592, 0.134875  , 0.11347119, 0.06443653, 0.        ,\n",
       "       0.        , 0.11729947, 0.02872446, 0.0218369 , 0.        ,\n",
       "       0.00095399, 0.        ])"
      ]
     },
     "execution_count": 6,
     "metadata": {},
     "output_type": "execute_result"
    }
   ],
   "source": [
    "rf_model_1.feature_importances_"
   ]
  },
  {
   "cell_type": "code",
   "execution_count": 7,
   "metadata": {},
   "outputs": [
    {
     "data": {
      "text/plain": [
       "Index(['Unnamed: 0', '25_per_1', '50_per_1', '75_per_1', 'max_per_1', 'skew_1',\n",
       "       'kurtosis_1', '4th_1', '5th_1', 'std/mean_1', 'skew_2', 'kurtosis_2',\n",
       "       '4th_2', '5th_2', 'std/mean_2', 'total return ratio', 'ratio stdev',\n",
       "       'max ratio'],\n",
       "      dtype='object')"
      ]
     },
     "execution_count": 7,
     "metadata": {},
     "output_type": "execute_result"
    }
   ],
   "source": [
    "x_df = pd.read_csv(\"X_exp_1_train.csv\", sep = \",\")\n",
    "x_df.columns"
   ]
  },
  {
   "cell_type": "markdown",
   "metadata": {},
   "source": [
    "### Second Classification:  Auction Rule\n",
    "\n",
    "#### Now auctions are classified by type: Second Price, Constant Percent, Variable Percent, Soft Floor, and Mixed Strategy"
   ]
  },
  {
   "cell_type": "code",
   "execution_count": 8,
   "metadata": {},
   "outputs": [],
   "source": [
    "X_train = pd.read_csv(\"X_exp_1_train.csv\", sep = \",\")\n",
    "\n",
    "y_train = pd.read_csv(\"y_exp_1_train.csv\", sep = \",\")\n",
    "\n"
   ]
  },
  {
   "cell_type": "code",
   "execution_count": 9,
   "metadata": {},
   "outputs": [],
   "source": [
    "X, y = np.array(X_train.drop(columns = ['Unnamed: 0'])), np.array(y_train['auction type'])"
   ]
  },
  {
   "cell_type": "code",
   "execution_count": 10,
   "metadata": {},
   "outputs": [
    {
     "name": "stderr",
     "output_type": "stream",
     "text": [
      "/anaconda3/lib/python3.7/site-packages/sklearn/linear_model/logistic.py:432: FutureWarning: Default solver will be changed to 'lbfgs' in 0.22. Specify a solver to silence this warning.\n",
      "  FutureWarning)\n",
      "/anaconda3/lib/python3.7/site-packages/sklearn/linear_model/logistic.py:469: FutureWarning: Default multi_class will be changed to 'auto' in 0.22. Specify the multi_class option to silence this warning.\n",
      "  \"this warning.\", FutureWarning)\n",
      "/anaconda3/lib/python3.7/site-packages/sklearn/linear_model/logistic.py:432: FutureWarning: Default solver will be changed to 'lbfgs' in 0.22. Specify a solver to silence this warning.\n",
      "  FutureWarning)\n",
      "/anaconda3/lib/python3.7/site-packages/sklearn/linear_model/logistic.py:469: FutureWarning: Default multi_class will be changed to 'auto' in 0.22. Specify the multi_class option to silence this warning.\n",
      "  \"this warning.\", FutureWarning)\n",
      "/anaconda3/lib/python3.7/site-packages/sklearn/linear_model/logistic.py:432: FutureWarning: Default solver will be changed to 'lbfgs' in 0.22. Specify a solver to silence this warning.\n",
      "  FutureWarning)\n",
      "/anaconda3/lib/python3.7/site-packages/sklearn/linear_model/logistic.py:469: FutureWarning: Default multi_class will be changed to 'auto' in 0.22. Specify the multi_class option to silence this warning.\n",
      "  \"this warning.\", FutureWarning)\n",
      "/anaconda3/lib/python3.7/site-packages/sklearn/linear_model/logistic.py:432: FutureWarning: Default solver will be changed to 'lbfgs' in 0.22. Specify a solver to silence this warning.\n",
      "  FutureWarning)\n",
      "/anaconda3/lib/python3.7/site-packages/sklearn/linear_model/logistic.py:469: FutureWarning: Default multi_class will be changed to 'auto' in 0.22. Specify the multi_class option to silence this warning.\n",
      "  \"this warning.\", FutureWarning)\n",
      "/anaconda3/lib/python3.7/site-packages/sklearn/linear_model/logistic.py:432: FutureWarning: Default solver will be changed to 'lbfgs' in 0.22. Specify a solver to silence this warning.\n",
      "  FutureWarning)\n",
      "/anaconda3/lib/python3.7/site-packages/sklearn/linear_model/logistic.py:469: FutureWarning: Default multi_class will be changed to 'auto' in 0.22. Specify the multi_class option to silence this warning.\n",
      "  \"this warning.\", FutureWarning)\n"
     ]
    },
    {
     "data": {
      "text/plain": [
       "knn        0.941692\n",
       "logit      0.952872\n",
       "svm        0.972709\n",
       "dt         0.990085\n",
       "rf         0.977686\n",
       "xgboost    0.990085\n",
       "dtype: float64"
      ]
     },
     "execution_count": 10,
     "metadata": {},
     "output_type": "execute_result"
    }
   ],
   "source": [
    "kf = KFold(n_splits=5, shuffle=True, random_state = 71)\n",
    "\n",
    "#collect scores\n",
    "knn_2_scores = []\n",
    "logistic_2_scores = []\n",
    "svm_2_scores = []\n",
    "dt_2_scores = []\n",
    "rf_2_scores = []\n",
    "xg_2_scores = []\n",
    "\n",
    "for train_ind, val_ind in kf.split(X,y):\n",
    "    \n",
    "    X_train, y_train = X[train_ind], y[train_ind]\n",
    "    X_val, y_val = X[val_ind], y[val_ind] \n",
    "    \n",
    "    \n",
    "    #k nearest neighbors\n",
    "    knn_2 = KNeighborsClassifier(n_neighbors=5)\n",
    "    knn_2.fit(X_train, y_train)\n",
    "    y_pred = knn_2.predict(X_val)\n",
    "    knn_2_scores.append(metrics.accuracy_score(y_val, y_pred))\n",
    "    \n",
    "    #logistic regression\n",
    "    logit_2 = LogisticRegression(C = 0.95)\n",
    "    logit_2.fit(X_train, y_train)\n",
    "    y_pred = logit_2.predict(X_val)\n",
    "    #check this code\n",
    "    logistic_2_scores.append(metrics.accuracy_score(y_val, y_pred))\n",
    "    \n",
    "    #support vector machines\n",
    "    svm_model_2 = svm.SVC(kernel=\"linear\")\n",
    "    svm_model_2.fit(X_train, y_train)\n",
    "    y_pred = svm_model_2.predict(X_val)\n",
    "    svm_2_scores.append(metrics.accuracy_score(y_val, y_pred))\n",
    "    \n",
    "    #decision tree\n",
    "    dt_model_2 = DecisionTreeRegressor()\n",
    "    dt_model_2.fit(X_train, y_train)\n",
    "    y_pred = dt_model_2.predict(X_val)\n",
    "    dt_2_scores.append(metrics.accuracy_score(y_val, y_pred))\n",
    "    \n",
    "    #random forests\n",
    "    rf_model_2 = RandomForestClassifier(n_estimators=20, max_depth=2, random_state=0)\n",
    "    rf_model_2.fit(X_train, y_train)\n",
    "    y_pred = rf_model_2.predict(X_val)\n",
    "    rf_2_scores.append(metrics.accuracy_score(y_val, y_pred))\n",
    "    \n",
    "    #xg boost\n",
    "    xg_model_2 = xgb.XGBClassifier()\n",
    "    xg_model_2.fit(X_train,y_train)\n",
    "    y_pred = xg_model_2.predict(X_val)\n",
    "    xg_2_scores.append(metrics.accuracy_score(y_val, y_pred))\n",
    "\n",
    "model_scores = [knn_2_scores, logistic_2_scores, svm_2_scores, dt_2_scores, rf_2_scores, xg_2_scores]  \n",
    "columns = ['knn', \"logit\", \"svm\", \"dt\", \"rf\", \"xgboost\"]\n",
    "df_2 = pd.DataFrame()\n",
    "for i in range(0,6):\n",
    "    df_2[columns[i]] = model_scores[i]\n",
    "df_2.mean(axis=0)"
   ]
  },
  {
   "cell_type": "markdown",
   "metadata": {},
   "source": [
    "### K-Fold results"
   ]
  },
  {
   "cell_type": "code",
   "execution_count": 11,
   "metadata": {},
   "outputs": [
    {
     "data": {
      "text/html": [
       "<div>\n",
       "<style scoped>\n",
       "    .dataframe tbody tr th:only-of-type {\n",
       "        vertical-align: middle;\n",
       "    }\n",
       "\n",
       "    .dataframe tbody tr th {\n",
       "        vertical-align: top;\n",
       "    }\n",
       "\n",
       "    .dataframe thead th {\n",
       "        text-align: right;\n",
       "    }\n",
       "</style>\n",
       "<table border=\"1\" class=\"dataframe\">\n",
       "  <thead>\n",
       "    <tr style=\"text-align: right;\">\n",
       "      <th></th>\n",
       "      <th>knn</th>\n",
       "      <th>logit</th>\n",
       "      <th>svm</th>\n",
       "      <th>dt</th>\n",
       "      <th>rf</th>\n",
       "      <th>xgboost</th>\n",
       "    </tr>\n",
       "  </thead>\n",
       "  <tbody>\n",
       "    <tr>\n",
       "      <th>0</th>\n",
       "      <td>0.938272</td>\n",
       "      <td>0.938272</td>\n",
       "      <td>0.969136</td>\n",
       "      <td>0.981481</td>\n",
       "      <td>0.962963</td>\n",
       "      <td>0.981481</td>\n",
       "    </tr>\n",
       "    <tr>\n",
       "      <th>1</th>\n",
       "      <td>0.944099</td>\n",
       "      <td>0.962733</td>\n",
       "      <td>0.968944</td>\n",
       "      <td>0.987578</td>\n",
       "      <td>0.956522</td>\n",
       "      <td>0.987578</td>\n",
       "    </tr>\n",
       "    <tr>\n",
       "      <th>2</th>\n",
       "      <td>0.975155</td>\n",
       "      <td>0.993789</td>\n",
       "      <td>0.993789</td>\n",
       "      <td>1.000000</td>\n",
       "      <td>0.993789</td>\n",
       "      <td>1.000000</td>\n",
       "    </tr>\n",
       "    <tr>\n",
       "      <th>3</th>\n",
       "      <td>0.937888</td>\n",
       "      <td>0.950311</td>\n",
       "      <td>0.975155</td>\n",
       "      <td>0.993789</td>\n",
       "      <td>0.993789</td>\n",
       "      <td>0.993789</td>\n",
       "    </tr>\n",
       "    <tr>\n",
       "      <th>4</th>\n",
       "      <td>0.913043</td>\n",
       "      <td>0.919255</td>\n",
       "      <td>0.956522</td>\n",
       "      <td>0.987578</td>\n",
       "      <td>0.981366</td>\n",
       "      <td>0.987578</td>\n",
       "    </tr>\n",
       "  </tbody>\n",
       "</table>\n",
       "</div>"
      ],
      "text/plain": [
       "        knn     logit       svm        dt        rf   xgboost\n",
       "0  0.938272  0.938272  0.969136  0.981481  0.962963  0.981481\n",
       "1  0.944099  0.962733  0.968944  0.987578  0.956522  0.987578\n",
       "2  0.975155  0.993789  0.993789  1.000000  0.993789  1.000000\n",
       "3  0.937888  0.950311  0.975155  0.993789  0.993789  0.993789\n",
       "4  0.913043  0.919255  0.956522  0.987578  0.981366  0.987578"
      ]
     },
     "execution_count": 11,
     "metadata": {},
     "output_type": "execute_result"
    }
   ],
   "source": [
    "df_2"
   ]
  },
  {
   "cell_type": "code",
   "execution_count": null,
   "metadata": {},
   "outputs": [],
   "source": []
  },
  {
   "cell_type": "code",
   "execution_count": 12,
   "metadata": {},
   "outputs": [
    {
     "data": {
      "text/plain": [
       "array([0.0488379 , 0.15043176, 0.2011487 , 0.03667515, 0.06195042,\n",
       "       0.04155765, 0.14595655, 0.10246127, 0.09308649, 0.01086983,\n",
       "       0.03649325, 0.04162732, 0.01448488, 0.        , 0.        ,\n",
       "       0.01441883, 0.        ])"
      ]
     },
     "execution_count": 12,
     "metadata": {},
     "output_type": "execute_result"
    }
   ],
   "source": [
    "rf_model_2.feature_importances_"
   ]
  },
  {
   "cell_type": "code",
   "execution_count": 13,
   "metadata": {},
   "outputs": [
    {
     "data": {
      "text/plain": [
       "Index(['Unnamed: 0', '25_per_1', '50_per_1', '75_per_1', 'max_per_1', 'skew_1',\n",
       "       'kurtosis_1', '4th_1', '5th_1', 'std/mean_1', 'skew_2', 'kurtosis_2',\n",
       "       '4th_2', '5th_2', 'std/mean_2', 'total return ratio', 'ratio stdev',\n",
       "       'max ratio'],\n",
       "      dtype='object')"
      ]
     },
     "execution_count": 13,
     "metadata": {},
     "output_type": "execute_result"
    }
   ],
   "source": [
    "x_df = pd.read_csv(\"X_exp_1_train.csv\", sep = \",\")\n",
    "x_df.columns"
   ]
  },
  {
   "cell_type": "code",
   "execution_count": null,
   "metadata": {},
   "outputs": [],
   "source": []
  },
  {
   "cell_type": "code",
   "execution_count": 14,
   "metadata": {},
   "outputs": [],
   "source": [
    "X_1_test = pd.read_csv(\"X_exp_1_test.csv\", sep = \",\")\n",
    "y_test = pd.read_csv(\"y_exp_1_test.csv\", sep = \",\")\n",
    "y_1_test = y_test[\"second_price_1\"]\n",
    "\n",
    "X, y = np.array(X_1_test.drop(columns = ['Unnamed: 0'])), np.array(y_1_test)"
   ]
  },
  {
   "cell_type": "code",
   "execution_count": 15,
   "metadata": {},
   "outputs": [
    {
     "data": {
      "image/png": "[encoded data removed]",
      "text/plain": [
       "<Figure size 600x400 with 2 Axes>"
      ]
     },
     "metadata": {
      "needs_background": "light"
     },
     "output_type": "display_data"
    }
   ],
   "source": [
    "dt_1_confusion = confusion_matrix(y, dt_model_1.predict(X))\n",
    "plt.figure(dpi=100)\n",
    "sns.heatmap(dt_1_confusion, cmap=plt.cm.Blues, annot=True, fmt='g',square=True,\n",
    "           xticklabels=['Other', '2nd price auction' ],\n",
    "           yticklabels=['Other', '2nd price auction'])\n",
    "\n",
    "plt.xlabel('Predicted auction type')\n",
    "plt.ylabel('Actual')\n",
    "plt.title('Decision Tree Confusion Matrix');"
   ]
  },
  {
   "cell_type": "code",
   "execution_count": 16,
   "metadata": {},
   "outputs": [
    {
     "data": {
      "image/png": "[encoded data removed]",
      "text/plain": [
       "<Figure size 600x400 with 2 Axes>"
      ]
     },
     "metadata": {
      "needs_background": "light"
     },
     "output_type": "display_data"
    }
   ],
   "source": [
    "xg_1_confusion = confusion_matrix(y, xg_model_1.predict(X))\n",
    "plt.figure(dpi=100)\n",
    "sns.heatmap(xg_1_confusion, cmap=plt.cm.Blues, annot=True, fmt='g', square=True,\n",
    "           xticklabels=['Other', '2nd price auction' ],\n",
    "           yticklabels=['Other', '2nd price auction'])\n",
    "\n",
    "plt.xlabel('Predicted auction type')\n",
    "plt.ylabel('Actual')\n",
    "plt.title('XG Boost Confusion Matrix');"
   ]
  },
  {
   "cell_type": "code",
   "execution_count": null,
   "metadata": {},
   "outputs": [],
   "source": []
  },
  {
   "cell_type": "code",
   "execution_count": 17,
   "metadata": {},
   "outputs": [],
   "source": [
    "X_2_test = pd.read_csv(\"X_exp_1_test.csv\", sep = \",\")\n",
    "y_test = pd.read_csv(\"y_exp_1_test.csv\", sep = \",\")\n",
    "y_2_test = y_test[\"auction type\"]\n",
    "\n",
    "X, y = np.array(X_2_test.drop(columns = ['Unnamed: 0'])), np.array(y_2_test)"
   ]
  },
  {
   "cell_type": "code",
   "execution_count": 18,
   "metadata": {},
   "outputs": [
    {
     "data": {
      "image/png": "[encoded data removed]",
      "text/plain": [
       "<Figure size 600x400 with 2 Axes>"
      ]
     },
     "metadata": {
      "needs_background": "light"
     },
     "output_type": "display_data"
    }
   ],
   "source": [
    "dt_2_confusion = confusion_matrix(y, dt_model_2.predict(X), labels  = [0, 1, 2, 3, 4])\n",
    "plt.figure(dpi=100)\n",
    "sns.heatmap(dt_2_confusion, cmap=plt.cm.Reds, annot=True, fmt='g', square=True,\n",
    "           xticklabels=[\"0\", \"1\", \"2\", \"3\", \"4\"],\n",
    "           yticklabels=[\"0\", \"1\", \"2\", \"3\", \"4\"])\n",
    "\n",
    "plt.xlabel('Predicted auction type')\n",
    "plt.ylabel('Actual')\n",
    "\n",
    "plt.title('Decision Tree Confusion Matrix');\n"
   ]
  },
  {
   "cell_type": "code",
   "execution_count": 19,
   "metadata": {},
   "outputs": [
    {
     "data": {
      "image/png": "[encoded data removed]",
      "text/plain": [
       "<Figure size 600x400 with 2 Axes>"
      ]
     },
     "metadata": {
      "needs_background": "light"
     },
     "output_type": "display_data"
    }
   ],
   "source": [
    "xg_2_confusion = confusion_matrix(y, xg_model_2.predict(X), labels  = [0, 1, 2, 3, 4])\n",
    "plt.figure(dpi=100)\n",
    "sns.heatmap(xg_2_confusion, cmap=plt.cm.Reds, annot=True, fmt='g', square=True,\n",
    "           xticklabels=['0', '1', '2', '3', '4'],\n",
    "           yticklabels=['0', '1', '2', '3', '4'])\n",
    "\n",
    "plt.xlabel('Predicted auction type')\n",
    "plt.ylabel('Actual')\n",
    "plt.title('XG Boost Confusion Matrix');"
   ]
  },
  {
   "cell_type": "code",
   "execution_count": null,
   "metadata": {},
   "outputs": [],
   "source": []
  },
  {
   "cell_type": "code",
   "execution_count": 20,
   "metadata": {},
   "outputs": [
    {
     "data": {
      "text/plain": [
       "array([0., 0., 1., 0., 0., 0., 0., 0., 0., 0., 0., 0., 0., 0., 0., 0., 0.],\n",
       "      dtype=float32)"
      ]
     },
     "execution_count": 20,
     "metadata": {},
     "output_type": "execute_result"
    }
   ],
   "source": [
    "xg_model_1.feature_importances_"
   ]
  },
  {
   "cell_type": "code",
   "execution_count": 21,
   "metadata": {},
   "outputs": [
    {
     "data": {
      "text/plain": [
       "Index(['25_per_1', '50_per_1', '75_per_1', 'max_per_1', 'skew_1', 'kurtosis_1',\n",
       "       '4th_1', '5th_1', 'std/mean_1', 'skew_2', 'kurtosis_2', '4th_2',\n",
       "       '5th_2', 'std/mean_2', 'total return ratio', 'ratio stdev',\n",
       "       'max ratio'],\n",
       "      dtype='object')"
      ]
     },
     "execution_count": 21,
     "metadata": {},
     "output_type": "execute_result"
    }
   ],
   "source": [
    "x_df = pd.read_csv(\"X_exp_1_train.csv\", sep = \",\")\n",
    "x_df = x_df.drop(columns = [\"Unnamed: 0\"])\n",
    "x_df.columns"
   ]
  },
  {
   "cell_type": "code",
   "execution_count": 22,
   "metadata": {},
   "outputs": [
    {
     "data": {
      "text/plain": [
       "array([0.19031334, 0.17303659, 0.2605778 , 0.00664481, 0.00591994,\n",
       "       0.15979181, 0.1533085 , 0.01334191, 0.00057316, 0.0029375 ,\n",
       "       0.00245742, 0.0047322 , 0.00547454, 0.00218166, 0.00409818,\n",
       "       0.0091294 , 0.00548134], dtype=float32)"
      ]
     },
     "execution_count": 22,
     "metadata": {},
     "output_type": "execute_result"
    }
   ],
   "source": [
    "xg_model_2.feature_importances_"
   ]
  },
  {
   "cell_type": "code",
   "execution_count": null,
   "metadata": {},
   "outputs": [],
   "source": []
  }
 ],
 "metadata": {
  "kernelspec": {
   "display_name": "Python 3",
   "language": "python",
   "name": "python3"
  },
  "language_info": {
   "codemirror_mode": {
    "name": "ipython",
    "version": 3
   },
   "file_extension": ".py",
   "mimetype": "text/x-python",
   "name": "python",
   "nbconvert_exporter": "python",
   "pygments_lexer": "ipython3",
   "version": "3.7.1"
  }
 },
 "nbformat": 4,
 "nbformat_minor": 2
}
